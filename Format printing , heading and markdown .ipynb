{
 "cells": [
  {
   "cell_type": "code",
   "execution_count": 1,
   "id": "48b69463",
   "metadata": {},
   "outputs": [
    {
     "name": "stdout",
     "output_type": "stream",
     "text": [
      "HEllo world\n"
     ]
    }
   ],
   "source": [
    "print(\"HEllo world\")"
   ]
  },
  {
   "cell_type": "code",
   "execution_count": 4,
   "id": "196d77a2",
   "metadata": {},
   "outputs": [
    {
     "name": "stdout",
     "output_type": "stream",
     "text": [
      "<class 'str'>\n"
     ]
    }
   ],
   "source": [
    "n=\"hi\"\n",
    "print(type(n))"
   ]
  },
  {
   "cell_type": "code",
   "execution_count": 5,
   "id": "197dc71c",
   "metadata": {},
   "outputs": [
    {
     "name": "stdout",
     "output_type": "stream",
     "text": [
      "1.6666666666666667\n",
      "1\n"
     ]
    }
   ],
   "source": [
    "print(5/3)\n",
    "print(5//3)"
   ]
  },
  {
   "cell_type": "code",
   "execution_count": 6,
   "id": "eba1c952",
   "metadata": {},
   "outputs": [
    {
     "data": {
      "text/plain": [
       "complex"
      ]
     },
     "execution_count": 6,
     "metadata": {},
     "output_type": "execute_result"
    }
   ],
   "source": [
    "type(3+2j)"
   ]
  },
  {
   "cell_type": "markdown",
   "id": "098fee54",
   "metadata": {},
   "source": [
    "# format printing"
   ]
  },
  {
   "cell_type": "code",
   "execution_count": 7,
   "id": "ba28d039",
   "metadata": {},
   "outputs": [
    {
     "name": "stdout",
     "output_type": "stream",
     "text": [
      "Please start Programming Rajesh\n"
     ]
    }
   ],
   "source": [
    "name=\"Rajesh\"\n",
    "print(\"Please start Programming\",name)"
   ]
  },
  {
   "cell_type": "code",
   "execution_count": 9,
   "id": "4fe953b1",
   "metadata": {},
   "outputs": [
    {
     "name": "stdout",
     "output_type": "stream",
     "text": [
      "Please start programming Rajesh\n"
     ]
    }
   ],
   "source": [
    "name=\"Rajesh\"\n",
    "print(\"Please start programming {}\".format(name))"
   ]
  },
  {
   "cell_type": "code",
   "execution_count": 14,
   "id": "faff396f",
   "metadata": {},
   "outputs": [
    {
     "name": "stdout",
     "output_type": "stream",
     "text": [
      "please start programming mrRajesh,mrkumar,mrg\n"
     ]
    }
   ],
   "source": [
    "name1=\"Rajesh\"\n",
    "name2=\"kumar\"\n",
    "name3=\"g\"\n",
    "print(\"please start programming mr{},mr{},mr{}\".format(name1,name2,name3))"
   ]
  },
  {
   "cell_type": "markdown",
   "id": "c884b93c",
   "metadata": {},
   "source": [
    "# f formating "
   ]
  },
  {
   "cell_type": "code",
   "execution_count": 15,
   "id": "cdac299c",
   "metadata": {},
   "outputs": [
    {
     "name": "stdout",
     "output_type": "stream",
     "text": [
      "rajesh hello welcome to python pprogrammming \n"
     ]
    }
   ],
   "source": [
    "name=\"rajesh\"\n",
    "print(f'{name} hello welcome to python pprogrammming ')"
   ]
  },
  {
   "cell_type": "markdown",
   "id": "a9058a0d",
   "metadata": {},
   "source": [
    "## this is formating multiple print statements using end "
   ]
  },
  {
   "cell_type": "code",
   "execution_count": 2,
   "id": "0afebed5",
   "metadata": {},
   "outputs": [
    {
     "name": "stdout",
     "output_type": "stream",
     "text": [
      "this is normal print statement\n",
      "this is second line \n"
     ]
    }
   ],
   "source": [
    "print(\"this is normal print statement\")\n",
    "print(\"this is second line \")"
   ]
  },
  {
   "cell_type": "code",
   "execution_count": 4,
   "id": "e60e207a",
   "metadata": {},
   "outputs": [
    {
     "name": "stdout",
     "output_type": "stream",
     "text": [
      "this the first line with end augument given  this is the second line which attached to the first line in output\n"
     ]
    }
   ],
   "source": [
    "print(\"this the first line with end augument given \",end=\" \")\n",
    "print(\"this is the second line which attached to the first line in output\")"
   ]
  },
  {
   "cell_type": "markdown",
   "id": "5972cb1e",
   "metadata": {},
   "source": [
    "## this is sys.stdout in print function"
   ]
  },
  {
   "cell_type": "code",
   "execution_count": 7,
   "id": "c3972daa",
   "metadata": {},
   "outputs": [
    {
     "name": "stdout",
     "output_type": "stream",
     "text": [
      "this is noraml print function\n"
     ]
    }
   ],
   "source": [
    "print(\"this is noraml print function\")"
   ]
  },
  {
   "cell_type": "code",
   "execution_count": 8,
   "id": "d062f9b6",
   "metadata": {},
   "outputs": [
    {
     "name": "stdout",
     "output_type": "stream",
     "text": [
      "Note: you may need to restart the kernel to use updated packages.\n"
     ]
    },
    {
     "name": "stderr",
     "output_type": "stream",
     "text": [
      "ERROR: Could not find a version that satisfies the requirement sys (from versions: none)\n",
      "ERROR: No matching distribution found for sys\n"
     ]
    }
   ],
   "source": [
    "pip install sys"
   ]
  },
  {
   "cell_type": "code",
   "execution_count": 9,
   "id": "cc924793",
   "metadata": {},
   "outputs": [
    {
     "name": "stdout",
     "output_type": "stream",
     "text": [
      "This is how stdout prints a content "
     ]
    },
    {
     "data": {
      "text/plain": [
       "36"
      ]
     },
     "execution_count": 9,
     "metadata": {},
     "output_type": "execute_result"
    }
   ],
   "source": [
    "import sys \n",
    "sys.stdout.write('This is how stdout prints a content ')"
   ]
  },
  {
   "cell_type": "markdown",
   "id": "02cec3f7",
   "metadata": {},
   "source": [
    "## This is how we can print a statement in a text file but not in console "
   ]
  },
  {
   "cell_type": "code",
   "execution_count": 15,
   "id": "2844db4c",
   "metadata": {},
   "outputs": [],
   "source": [
    "with open(\"example.txt\", \"w\") as text_file:\n",
    "    print(\"Hello, file!\", file=text_file)"
   ]
  },
  {
   "cell_type": "markdown",
   "id": "01cc7e9f",
   "metadata": {},
   "source": [
    "#### this will store the above text file in the folder the current code is placed and saves it with the name given "
   ]
  },
  {
   "cell_type": "markdown",
   "id": "200deacd",
   "metadata": {},
   "source": [
    "#### we can read the contents of file as below "
   ]
  },
  {
   "cell_type": "code",
   "execution_count": 14,
   "id": "7d45e099",
   "metadata": {},
   "outputs": [
    {
     "name": "stdout",
     "output_type": "stream",
     "text": [
      "Hello, file!\n",
      "\n"
     ]
    }
   ],
   "source": [
    "with open('example.txt', 'r') as f:\n",
    "    contents = f.read()\n",
    "    print(contents)"
   ]
  },
  {
   "cell_type": "code",
   "execution_count": 18,
   "id": "572fbecb",
   "metadata": {},
   "outputs": [
    {
     "name": "stdout",
     "output_type": "stream",
     "text": [
      "this how we will place a bullet list in markdown\n",
      "- hi\n",
      "- hello\n"
     ]
    }
   ],
   "source": [
    "print(\"this how we will place a bullet list in markdown\")\n",
    "print(\"- hi\")\n",
    "print(\"- hello\")"
   ]
  },
  {
   "cell_type": "markdown",
   "id": "37d22bff",
   "metadata": {},
   "source": [
    "- hi\n",
    "- hello"
   ]
  },
  {
   "cell_type": "code",
   "execution_count": 21,
   "id": "c87e0dd1",
   "metadata": {},
   "outputs": [
    {
     "name": "stdout",
     "output_type": "stream",
     "text": [
      "this is how we will place a numbered list in mark down \n",
      "1. step 1\n",
      "  1. sub step 1\n",
      "2. step 2\n",
      "  1. sub step 2\n"
     ]
    }
   ],
   "source": [
    "print(\"this is how we will place a numbered list in mark down \")\n",
    "print(\"1. step 1\")\n",
    "print(\"  1. sub step 1\")\n",
    "print(\"2. step 2\")\n",
    "print(\"  1. sub step 2\")"
   ]
  },
  {
   "cell_type": "markdown",
   "id": "25f58e32",
   "metadata": {},
   "source": [
    "1. step 1\n",
    "    1. substep 1.1\n",
    "2. step 2\n",
    "    1. substep 2.1"
   ]
  }
 ],
 "metadata": {
  "kernelspec": {
   "display_name": "Python 3 (ipykernel)",
   "language": "python",
   "name": "python3"
  },
  "language_info": {
   "codemirror_mode": {
    "name": "ipython",
    "version": 3
   },
   "file_extension": ".py",
   "mimetype": "text/x-python",
   "name": "python",
   "nbconvert_exporter": "python",
   "pygments_lexer": "ipython3",
   "version": "3.11.5"
  }
 },
 "nbformat": 4,
 "nbformat_minor": 5
}
